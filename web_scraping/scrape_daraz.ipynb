{
 "cells": [
  {
   "cell_type": "markdown",
   "id": "b693732e",
   "metadata": {},
   "source": [
    "# Documentation\n",
    "- this script scrapes all product names and product prices from `https://www.daraz.com.np/`\n",
    "- they are displayed in a dataframe below as well as output to a csv"
   ]
  },
  {
   "cell_type": "markdown",
   "id": "8e5d7916",
   "metadata": {},
   "source": [
    "# Imports"
   ]
  },
  {
   "cell_type": "code",
   "execution_count": 1,
   "id": "07e1b6e2",
   "metadata": {},
   "outputs": [],
   "source": [
    "from selenium import webdriver\n",
    "from webdriver_manager.chrome import ChromeDriverManager\n",
    "from bs4 import BeautifulSoup\n",
    "import pandas as pd\n",
    "from time import sleep\n",
    "from selenium.webdriver.common.by import By\n",
    "import numpy as np"
   ]
  },
  {
   "cell_type": "markdown",
   "id": "e0d62037",
   "metadata": {},
   "source": [
    "# Functions"
   ]
  },
  {
   "cell_type": "code",
   "execution_count": 2,
   "id": "fef2c3df",
   "metadata": {},
   "outputs": [],
   "source": [
    "def get_int_price(price):\n",
    "    price = price.find('span', {'class':'price'})\n",
    "    price = price.get_text()\n",
    "    price = price.replace(',', '')\n",
    "    return int(price)\n",
    "\n",
    "def click_load_more():\n",
    "    load_more_button = driver.find_element(By.XPATH, '/html/body/div[4]/div[7]/div[2]/div[2]/a')\n",
    "    try:\n",
    "        while True:\n",
    "            load_more_button.click()\n",
    "            sleep(0.5)\n",
    "    except Exception as er:\n",
    "        print('error', er)\n",
    "        return None"
   ]
  },
  {
   "cell_type": "markdown",
   "id": "ea63709a",
   "metadata": {},
   "source": [
    "# Body"
   ]
  },
  {
   "cell_type": "code",
   "execution_count": 3,
   "id": "bbc5825f",
   "metadata": {
    "scrolled": true
   },
   "outputs": [
    {
     "name": "stdout",
     "output_type": "stream",
     "text": [
      "\n"
     ]
    },
    {
     "name": "stderr",
     "output_type": "stream",
     "text": [
      "[WDM] - ====== WebDriver manager ======\n",
      "[WDM] - Current google-chrome version is 105.0.5195\n",
      "[WDM] - Get LATEST chromedriver version for 105.0.5195 google-chrome\n",
      "[WDM] - Driver [/home/ff/.wdm/drivers/chromedriver/linux64/105.0.5195.52/chromedriver] found in cache\n",
      "/tmp/ipykernel_737048/365059496.py:1: DeprecationWarning: executable_path has been deprecated, please pass in a Service object\n",
      "  driver=webdriver.Chrome(ChromeDriverManager().install())\n"
     ]
    }
   ],
   "source": [
    "driver=webdriver.Chrome(ChromeDriverManager().install())"
   ]
  },
  {
   "cell_type": "code",
   "execution_count": 4,
   "id": "62e17866",
   "metadata": {},
   "outputs": [
    {
     "name": "stdout",
     "output_type": "stream",
     "text": [
      "error Message: element not interactable\n",
      "  (Session info: chrome=105.0.5195.102)\n",
      "Stacktrace:\n",
      "#0 0x55de4fe11693 <unknown>\n",
      "#1 0x55de4fc0a9db <unknown>\n",
      "#2 0x55de4fc4475e <unknown>\n",
      "#3 0x55de4fc38551 <unknown>\n",
      "#4 0x55de4fc60922 <unknown>\n",
      "#5 0x55de4fc37d53 <unknown>\n",
      "#6 0x55de4fc60a8e <unknown>\n",
      "#7 0x55de4fc744b0 <unknown>\n",
      "#8 0x55de4fc60743 <unknown>\n",
      "#9 0x55de4fc36533 <unknown>\n",
      "#10 0x55de4fc37715 <unknown>\n",
      "#11 0x55de4fe617bd <unknown>\n",
      "#12 0x55de4fe64bf9 <unknown>\n",
      "#13 0x55de4fe46f2e <unknown>\n",
      "#14 0x55de4fe659b3 <unknown>\n",
      "#15 0x55de4fe3ae4f <unknown>\n",
      "#16 0x55de4fe84ea8 <unknown>\n",
      "#17 0x55de4fe85052 <unknown>\n",
      "#18 0x55de4fe9f71f <unknown>\n",
      "#19 0x7f9f46a9c74d <unknown>\n",
      "\n"
     ]
    }
   ],
   "source": [
    "driver.get('https://www.daraz.com.np/')\n",
    "sleep(10)\n",
    "click_load_more()"
   ]
  },
  {
   "cell_type": "code",
   "execution_count": 5,
   "id": "9a5cde64",
   "metadata": {},
   "outputs": [
    {
     "ename": "AttributeError",
     "evalue": "'NoneType' object has no attribute 'get_text'",
     "output_type": "error",
     "traceback": [
      "\u001b[0;31m---------------------------------------------------------------------------\u001b[0m",
      "\u001b[0;31mAttributeError\u001b[0m                            Traceback (most recent call last)",
      "Input \u001b[0;32mIn [5]\u001b[0m, in \u001b[0;36m<cell line: 8>\u001b[0;34m()\u001b[0m\n\u001b[1;32m      6\u001b[0m names_fs \u001b[38;5;241m=\u001b[39m [name\u001b[38;5;241m.\u001b[39mget_text() \u001b[38;5;28;01mfor\u001b[39;00m name \u001b[38;5;129;01min\u001b[39;00m names_fs]\n\u001b[1;32m      7\u001b[0m prices_fs \u001b[38;5;241m=\u001b[39m soup\u001b[38;5;241m.\u001b[39mfind_all(\u001b[38;5;124m'\u001b[39m\u001b[38;5;124mdiv\u001b[39m\u001b[38;5;124m'\u001b[39m, {\u001b[38;5;124m'\u001b[39m\u001b[38;5;124mclass\u001b[39m\u001b[38;5;124m'\u001b[39m:\u001b[38;5;124m'\u001b[39m\u001b[38;5;124mfs-card-price\u001b[39m\u001b[38;5;124m'\u001b[39m})\n\u001b[0;32m----> 8\u001b[0m prices_fs \u001b[38;5;241m=\u001b[39m [get_int_price(price) \u001b[38;5;28;01mfor\u001b[39;00m price \u001b[38;5;129;01min\u001b[39;00m prices_fs]\n\u001b[1;32m     10\u001b[0m \u001b[38;5;66;03m# just for you\u001b[39;00m\n\u001b[1;32m     11\u001b[0m names_jfy \u001b[38;5;241m=\u001b[39m soup\u001b[38;5;241m.\u001b[39mfind_all(\u001b[38;5;124m'\u001b[39m\u001b[38;5;124mdiv\u001b[39m\u001b[38;5;124m'\u001b[39m, {\u001b[38;5;124m'\u001b[39m\u001b[38;5;124mclass\u001b[39m\u001b[38;5;124m'\u001b[39m:\u001b[38;5;124m'\u001b[39m\u001b[38;5;124mcard-jfy-title\u001b[39m\u001b[38;5;124m'\u001b[39m})\n",
      "Input \u001b[0;32mIn [5]\u001b[0m, in \u001b[0;36m<listcomp>\u001b[0;34m(.0)\u001b[0m\n\u001b[1;32m      6\u001b[0m names_fs \u001b[38;5;241m=\u001b[39m [name\u001b[38;5;241m.\u001b[39mget_text() \u001b[38;5;28;01mfor\u001b[39;00m name \u001b[38;5;129;01min\u001b[39;00m names_fs]\n\u001b[1;32m      7\u001b[0m prices_fs \u001b[38;5;241m=\u001b[39m soup\u001b[38;5;241m.\u001b[39mfind_all(\u001b[38;5;124m'\u001b[39m\u001b[38;5;124mdiv\u001b[39m\u001b[38;5;124m'\u001b[39m, {\u001b[38;5;124m'\u001b[39m\u001b[38;5;124mclass\u001b[39m\u001b[38;5;124m'\u001b[39m:\u001b[38;5;124m'\u001b[39m\u001b[38;5;124mfs-card-price\u001b[39m\u001b[38;5;124m'\u001b[39m})\n\u001b[0;32m----> 8\u001b[0m prices_fs \u001b[38;5;241m=\u001b[39m [\u001b[43mget_int_price\u001b[49m\u001b[43m(\u001b[49m\u001b[43mprice\u001b[49m\u001b[43m)\u001b[49m \u001b[38;5;28;01mfor\u001b[39;00m price \u001b[38;5;129;01min\u001b[39;00m prices_fs]\n\u001b[1;32m     10\u001b[0m \u001b[38;5;66;03m# just for you\u001b[39;00m\n\u001b[1;32m     11\u001b[0m names_jfy \u001b[38;5;241m=\u001b[39m soup\u001b[38;5;241m.\u001b[39mfind_all(\u001b[38;5;124m'\u001b[39m\u001b[38;5;124mdiv\u001b[39m\u001b[38;5;124m'\u001b[39m, {\u001b[38;5;124m'\u001b[39m\u001b[38;5;124mclass\u001b[39m\u001b[38;5;124m'\u001b[39m:\u001b[38;5;124m'\u001b[39m\u001b[38;5;124mcard-jfy-title\u001b[39m\u001b[38;5;124m'\u001b[39m})\n",
      "Input \u001b[0;32mIn [2]\u001b[0m, in \u001b[0;36mget_int_price\u001b[0;34m(price)\u001b[0m\n\u001b[1;32m      1\u001b[0m \u001b[38;5;28;01mdef\u001b[39;00m \u001b[38;5;21mget_int_price\u001b[39m(price):\n\u001b[1;32m      2\u001b[0m     price \u001b[38;5;241m=\u001b[39m price\u001b[38;5;241m.\u001b[39mfind(\u001b[38;5;124m'\u001b[39m\u001b[38;5;124mspan\u001b[39m\u001b[38;5;124m'\u001b[39m, {\u001b[38;5;124m'\u001b[39m\u001b[38;5;124mclass\u001b[39m\u001b[38;5;124m'\u001b[39m:\u001b[38;5;124m'\u001b[39m\u001b[38;5;124mprice\u001b[39m\u001b[38;5;124m'\u001b[39m})\n\u001b[0;32m----> 3\u001b[0m     price \u001b[38;5;241m=\u001b[39m \u001b[43mprice\u001b[49m\u001b[38;5;241;43m.\u001b[39;49m\u001b[43mget_text\u001b[49m()\n\u001b[1;32m      4\u001b[0m     price \u001b[38;5;241m=\u001b[39m price\u001b[38;5;241m.\u001b[39mreplace(\u001b[38;5;124m'\u001b[39m\u001b[38;5;124m,\u001b[39m\u001b[38;5;124m'\u001b[39m, \u001b[38;5;124m'\u001b[39m\u001b[38;5;124m'\u001b[39m)\n\u001b[1;32m      5\u001b[0m     \u001b[38;5;28;01mreturn\u001b[39;00m \u001b[38;5;28mint\u001b[39m(price)\n",
      "\u001b[0;31mAttributeError\u001b[0m: 'NoneType' object has no attribute 'get_text'"
     ]
    }
   ],
   "source": [
    "html = driver.page_source\n",
    "soup = BeautifulSoup(html, 'html.parser')\n",
    "\n",
    "# flash sale\n",
    "names_fs = soup.find_all('div', {'class':'fs-card-title'})\n",
    "names_fs = [name.get_text() for name in names_fs]\n",
    "prices_fs = soup.find_all('div', {'class':'fs-card-price'})\n",
    "prices_fs = [get_int_price(price) for price in prices_fs]\n",
    "\n",
    "# just for you\n",
    "names_jfy = soup.find_all('div', {'class':'card-jfy-title'})\n",
    "prices_jfy = soup.find_all('div', {'class':'hp-mod-price-first-line'})\n",
    "names_jfy = [name.get_text() for name in names_jfy]\n",
    "prices_jfy = [get_int_price(price) for price in prices_jfy]"
   ]
  },
  {
   "cell_type": "code",
   "execution_count": null,
   "id": "ffd2695c",
   "metadata": {},
   "outputs": [],
   "source": [
    "df = pd.DataFrame({'names':names_fs + names_jfy, 'prices':prices_fs + prices_jfy})\n",
    "df.to_csv('scrape_daraz_data.csv', index=None)\n",
    "df"
   ]
  }
 ],
 "metadata": {
  "kernelspec": {
   "display_name": "Python 3 (ipykernel)",
   "language": "python",
   "name": "python3"
  },
  "language_info": {
   "codemirror_mode": {
    "name": "ipython",
    "version": 3
   },
   "file_extension": ".py",
   "mimetype": "text/x-python",
   "name": "python",
   "nbconvert_exporter": "python",
   "pygments_lexer": "ipython3",
   "version": "3.10.7"
  }
 },
 "nbformat": 4,
 "nbformat_minor": 5
}
