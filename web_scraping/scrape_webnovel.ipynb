{
 "cells": [
  {
   "cell_type": "code",
   "execution_count": 9,
   "id": "769a647f",
   "metadata": {},
   "outputs": [],
   "source": [
    "from selenium import webdriver\n",
    "from webdriver_manager.chrome import ChromeDriverManager\n",
    "from bs4 import BeautifulSoup\n",
    "import pandas as pd\n",
    "from time import sleep\n",
    "import numpy as np\n",
    "from selenium.webdriver.common.by import By"
   ]
  },
  {
   "cell_type": "code",
   "execution_count": 3,
   "id": "3215828e",
   "metadata": {},
   "outputs": [
    {
     "name": "stdout",
     "output_type": "stream",
     "text": [
      "\n"
     ]
    },
    {
     "name": "stderr",
     "output_type": "stream",
     "text": [
      "[WDM] - ====== WebDriver manager ======\n",
      "[WDM] - Current google-chrome version is 105.0.5195\n",
      "[WDM] - Get LATEST chromedriver version for 105.0.5195 google-chrome\n",
      "[WDM] - Driver [/home/ff/.wdm/drivers/chromedriver/linux64/105.0.5195.52/chromedriver] found in cache\n",
      "/tmp/ipykernel_1031331/1783756425.py:1: DeprecationWarning: executable_path has been deprecated, please pass in a Service object\n",
      "  driver=webdriver.Chrome(ChromeDriverManager().install())\n"
     ]
    }
   ],
   "source": [
    "driver=webdriver.Chrome(ChromeDriverManager().install())\n",
    "driver.get('https://www.webnovel.com/book/my-vampire-system_16709365405930105/just-an-old-book_44853895649874397')\n"
   ]
  },
  {
   "cell_type": "code",
   "execution_count": 11,
   "id": "98074cfc",
   "metadata": {},
   "outputs": [],
   "source": [
    "got_it_button = driver.find_element(By.XPATH, \"/html/body/div[16]/a\")\n",
    "got_it_button.click()"
   ]
  },
  {
   "cell_type": "code",
   "execution_count": 53,
   "id": "8da9b84c",
   "metadata": {},
   "outputs": [],
   "source": [
    "soup = BeautifulSoup(driver.page_source, 'html.parser')"
   ]
  },
  {
   "cell_type": "code",
   "execution_count": 7,
   "id": "a3107b6d",
   "metadata": {},
   "outputs": [
    {
     "data": {
      "text/plain": [
       "'My Vampire System'"
      ]
     },
     "execution_count": 7,
     "metadata": {},
     "output_type": "execute_result"
    }
   ],
   "source": [
    "# <h2 class=\"lh1 mb16 mla mra oh lh1.2\">My Vampire System</h2>\n",
    "title = soup.find('h2', {'class':'lh1'}).get_text()\n",
    "title"
   ]
  },
  {
   "cell_type": "code",
   "execution_count": 61,
   "id": "cf4db4f8",
   "metadata": {
    "scrolled": true
   },
   "outputs": [
    {
     "data": {
      "text/plain": [
       "['Chapter 1: Just an old Book',\n",
       " 'Chapter 2: Daily Quest',\n",
       " 'Chapter 3: Military School']"
      ]
     },
     "execution_count": 61,
     "metadata": {},
     "output_type": "execute_result"
    }
   ],
   "source": [
    "chapter_titles = soup.find_all('h1', {'class':'dib'})\n",
    "chapter_titles = list(map(BeautifulSoup.get_text, chapter_titles))"
   ]
  },
  {
   "cell_type": "code",
   "execution_count": 39,
   "id": "fa868b8c",
   "metadata": {},
   "outputs": [],
   "source": [
    "def remove_white_space(text):\n",
    "    return '\\n'.join(' '.join(line.split()) for line in text.split('\\n'))"
   ]
  },
  {
   "cell_type": "code",
   "execution_count": 50,
   "id": "1bb5cc5d",
   "metadata": {},
   "outputs": [
    {
     "name": "stdout",
     "output_type": "stream",
     "text": [
      "\"Try not to die by tripping over yourself, Quinn!\" A boy shouted down the hallway, laughing uncontrollably right after.\n",
      "\n",
      "Quinn dismissed the petty mockery as he carried on walking down the school corridor. The harassment had become a daily occurrence for him, but it still bothered him just as much as it did every other day. Thus, he wasn't able to hold back his desire to retaliate.\n",
      "\n",
      "Quinn slowed down his stride and stopped. He pushed his glasses back up onto the ridge of his nose as they had slipped down from his face. Just from looking at the glasses, it was clear that he needed a new pair - One could tell that they were heavily worn. The glasses looked crooked as he wore them, and even the temples had tape covering them.\n",
      "\n",
      "He then turned around and immediately raised his middle finger, responding to the slander, \"I bet you don't even know how many fingers I'm holding up!\"\n",
      "\n",
      "Upon hearing the taunt, the boy clenched his fist and started running towards Quinn.\n",
      "\n",
      "\"You level 1 piece of crap! When are you going to learn that you don't belong in this world?\"\n",
      "\n",
      "The boy placed both of his hands together, and a green ball of light started to form between them. When he was only a few meters away from Quinn, the boy threw his hands forward and a green beam shot out from the palm of his hands.\n",
      "\n",
      "Quinn had nowhere to go, and the ray of light was too fast for him to dodge. Hence, he knew that all he could do was grit his teeth and bear the pain. As the light hit him, his body was lifted into the air and sent flying backward on to the far end corridor wall.\n",
      "\n",
      "\"What's going on?\" A student among the crowd said. \"Are they fighting on the last day of school?\"\n",
      "\n",
      "A crowd had immediately formed outside, interested in what the commotion was all about. One of the female students ran over to the wall's damaged part to check on the assaulted student's safety.\n",
      "\n",
      "As the dust started to settle down, Quinn's slightly curly black hair slowly came into view. When the smoke eventually cleared up, the female student finally saw who it was. She instantly backed away and continued on with her business as if nothing happened.\n",
      "\n",
      "The moment that the female student had returned to her friends, he could see that they were laughing at her.\n",
      "\n",
      "\"I can't believe you tried to help him.\"\n",
      "\n",
      "\"I didn't see who it was.\" The girl retorted, her cheeks flushed.\n",
      "\n",
      "After that, Quinn stood up and lifted his glasses that were thrown on the floor. To his dismay, one of the hinges had fallen off once again. Instead of wearing the worn-out pair, he let it hang on his hand.\n",
      "\n",
      "\"Damn it. Not again...\"\n",
      "\n",
      "It was the last day of school for Quinn, so he hoped that someone wouldn't try anything with him. He was sick and tired of their doings, but he wasn't the type to ignore those either. He had seen people who had chosen to keep their heads down and tolerate the harassment. However, their treatment was far worse than what he received.\n",
      "\n",
      "He didn't bother to stay at school like the rest of the students, he picked up his broken glasses and proceeded to leave school. As he walked past, he saw the students having conversations among themselves in their circles. Some were laughing while some had tears, thinking it was the last time they would ever see each other again. However, Quinn wasn't a part of any of that and he didn't want to be. Cliques would not welcome him anyway. He was the weird one.\n",
      "\n",
      "When he finally arrived home, he immediately went to work. Living in a single bedroom apartment with just enough space to fit a single bed and desk was enough for him. A TV was mounted on the wall, but Quinn would merely use it as a background noise source and didn't watch anything.\n",
      "\n",
      "The apartment was provided to him by the government since he had no living relatives and was only sixteen years of age. On top of his bed was a single suitcase that contained all of his belongings that were neatly packed.\n",
      "\n",
      "He walked towards a cabinet, immediately pulling a drawer open which accommodated a single book. It was a large and thick hard-bound book, weighing about half a kilo. The front cover of the book was in a colour that mimicked a lighter shade of blood. In the centre, the lonesome fronts of an upper and lower jaw bone could be seen, both coloured in the swampy shade of brown. The upper jaw sort of had four separated fangs. Meanwhile, the lower one had two sharp teeth on the two far ends on the overhead and five evenly spaced underneath.\n",
      "\n",
      "\"Let's try again today,\" Quinn said as he lifted the book and placed it on top of the desk.\n",
      "\n",
      "He then quickly went to his bag to pull out a little test tube that was half-filled with a colourless liquid.\n",
      "\n",
      "\"Test 112, Hydrochloric acid. Let's see how it goes?\" He then started to slowly pour the liquid out of the test tube onto the book.\n",
      "\n",
      "\"So far, there is no reaction.\" He proceeded to continue to pour all of the test tube contents on the book, but there was no reaction at the end of his experiment.\n",
      "\n",
      "Carefully, he examined the book while jotting down the results in his notebook. Seeing if there was any damage done, yet the book looked the same as always.\n",
      "\n",
      "\"Another failure. Why won't you open? Why did mum and dad even have this thing?\"\n",
      "\n",
      "One hundred and twelve times - This was the number of different ways that Quinn had tried to open the book. Not only did the book not open, but it seemed like it cannot be damaged either. He had even tried burning the book, cutting the book, melting the book, though nothing had worked against the book that seemed utterly durable.\n",
      "\n",
      "Lying on his bed, he turned on the TV for its sole purpose, making background noises. He never really paid attention to what was on. With it, the sound of other voices made him feel less lonely.\n",
      "\n",
      "Upon turning on, the TV displayed an ongoing NEWS show.\n",
      "\n",
      "\"The peace treaty with the Dalki race has lasted for five years now, but officials are saying that tension is rising once again. Now, we must prepare for another war….\"\n",
      "\n",
      "The mention of war had always been shown on the TV nonstop ever since a certain day thirty years ago. The human race received a visit from the so-called Dalki. They had the physique of humans, except for their skins that were riddled with scales and the presence of tails that were similar to what the dragons had.\n",
      "\n",
      "With no real clue of why they had suddenly appeared, they immediately demanded that the Human race hand over their resources and wanted to use them as slaves. Of course, the humans decided to fight back, but they quickly found out that their modern technology was useless against them. Bullets couldn't penetrate their skin, and as for tanks, well, Dalki had airships.\n",
      "\n",
      "Every individual, disregarding the gender, was told to fight for their planet, and that included Quinn's parents. The war went on for years, so he grew up not knowing what his parents looked like.\n",
      "\n",
      "When the humans were on the brink of defeat, a select group of people came forward - These people had special abilities. They began sharing their knowledge of how they obtained such power in hopes of turning the tide in the war, and thankfully, it worked. Even so, the Dalki were still strong, and a seemingly endless stalemate led to the peace treaty signing five years ago.\n",
      "\n",
      "Obviously enough, human greed got the better of humanity, and instead of sharing these powers with everybody else, the higher-ranked governmental officials decided to keep them for themselves. Only those with money could learn the more powerful abilities while everyone else was left with scraps.\n",
      "\n",
      "It was something that needed to be done. Poverty had taken over the world, but people had powers and were using them uncontrollably, unlike before.\n",
      "\n",
      "Quinn was given nothing when his parents died. The government agreed to pay for his living expenses while he was still in school, but that was it. When his parents died, him being at the age of ten, an agent appeared at his doorstep and handed him a book. He was told that it was the only thing that his parents possessed - One that they passed down when they died.\n",
      "\n",
      "\"Why is the world so unfair?\" He uttered, lamenting about his situation.\n",
      "\n",
      "Getting out of his bed, he started sauntering towards his desk. He picked up his glasses that were still slightly broken and decided that he needed to fix them. He noticed that one of the lenses was slightly out of place, and tried to punch it back into its frame.\n",
      "\n",
      "\"Come on! Just get in!\" He shouted as he tried to forcefully fix the glasses. The frustration he had been bottling up was on his face as he struggled furiously with the lens.\n",
      "\n",
      "Unfortunately, the lens suddenly crumbled into pieces, one of the shards of plastic even created a deep gash in his thumb.\n",
      "\n",
      "He screamed and kicked at the table.\n",
      "\n",
      "\"Why does the world hate me?\"\n",
      "\n",
      "After a while, he calmed down and started to clean up the little pieces of glass, noticing that a piece had landed on top of his book. As Quinn removed the piece of glass, a drop of blood from his thumb landed on top of the book.\n",
      "\n",
      "The object plastered on the centre of the book started to glow, and suddenly, the book began to float, hovering until it was on eye-level with Quinn.\n",
      "\n",
      "Quinn darted back and away from it. The glow form the book made his room look emptier with the little bed at the corner and the solitary seat beside it.\n",
      "\n",
      "\"What the hell is happening?!\"\n",
      "\n",
      "The book started to emit a blinding radiance as it shook uncontrollably. A few seconds later, it finally opened up, pages after pages were being turned. Quinn couldn't take his eyes off of the shining book - It was as if he was in a deep trance. The words written on the pages of the book weren't in any language that he had seen before. Nevertheless, for some reason, he felt like he could understand it.\n",
      "\n",
      "When the book reached its last page, it started to disappear, gradually turning into dust. At the same time, his body suddenly felt weak. Quinn's vision was starting to fade, and with that, his eyes pulled shut.\n",
      "\n",
      "But just before he passed out, there was a single message that he heard.\n",
      "\n",
      "<Congratulations you have been granted the Va....>\n",
      "\n",
      "Unable to maintain consciousness long enough to hear the final words, Quinn duly passed out.\n",
      "\n",
      "\n"
     ]
    }
   ],
   "source": [
    "content = soup.find('div', {'class':'cha-words'})\n",
    "paragraphs = content.find_all('p')\n",
    "paragraphs = [paragraph.get_text() for paragraph in paragraphs]\n",
    "paragraphs = list(map(remove_white_space, paragraphs))\n",
    "paragraphs = ''.join(paragraphs)\n",
    "paragraphs = paragraphs.replace('\\n', '\\n\\n')\n",
    "print(paragraphs)"
   ]
  }
 ],
 "metadata": {
  "kernelspec": {
   "display_name": "Python 3 (ipykernel)",
   "language": "python",
   "name": "python3"
  },
  "language_info": {
   "codemirror_mode": {
    "name": "ipython",
    "version": 3
   },
   "file_extension": ".py",
   "mimetype": "text/x-python",
   "name": "python",
   "nbconvert_exporter": "python",
   "pygments_lexer": "ipython3",
   "version": "3.10.7"
  }
 },
 "nbformat": 4,
 "nbformat_minor": 5
}
