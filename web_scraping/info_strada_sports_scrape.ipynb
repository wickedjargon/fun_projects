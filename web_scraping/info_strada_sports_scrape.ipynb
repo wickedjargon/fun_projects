{
 "cells": [
  {
   "cell_type": "markdown",
   "id": "188cd301",
   "metadata": {},
   "source": [
    "# The Infostradasports Scraper\n",
    "This python script pulls athlete profile information from `infostradasports.com`.\n",
    "\n",
    "## Global Variables\n",
    "- `INFOSTRADASPORTS_URL` : URL which data is pulled from.\n",
    "- `NUM_OF_ATHLETE_PROFILES_TO_CAPTURE` : number of profiles to capture. Set this to `0` to capture all profiles from page"
   ]
  },
  {
   "cell_type": "markdown",
   "id": "e260c4a5",
   "metadata": {},
   "source": [
    "## Imports"
   ]
  },
  {
   "cell_type": "code",
   "execution_count": 1,
   "id": "d5c74450",
   "metadata": {},
   "outputs": [],
   "source": [
    "import requests\n",
    "from bs4 import BeautifulSoup\n",
    "import pandas as pd\n",
    "import re"
   ]
  },
  {
   "cell_type": "markdown",
   "id": "bd01aa0a",
   "metadata": {},
   "source": [
    "## Global Varialbes"
   ]
  },
  {
   "cell_type": "code",
   "execution_count": 2,
   "id": "fbad3c02",
   "metadata": {},
   "outputs": [],
   "source": [
    "NUM_OF_ATHLETE_PROFILES_TO_CAPTURE = 5\n",
    "INFOSTRADASPORTS_URL = 'http://ipc.infostradasports.com/asp/lib/TheASP.asp?pageid=8903&sportid=514&NOCClubID=-1&Olympic=0&WinterGames=-1&ContinentGeoID=-1'"
   ]
  },
  {
   "cell_type": "markdown",
   "id": "73900bf1",
   "metadata": {},
   "source": [
    "## Functions"
   ]
  },
  {
   "cell_type": "code",
   "execution_count": 3,
   "id": "100e8dfc",
   "metadata": {},
   "outputs": [],
   "source": [
    "def get_unique_keys(athlete_profiles):\n",
    "    athlete_profile_keys = set()\n",
    "    for athlete_profile in athlete_profiles:\n",
    "        for key in athlete_profile:\n",
    "            athlete_profile_keys.add(key)\n",
    "    return athlete_profile_keys\n",
    "\n",
    "def initialize_database(unique_keys):\n",
    "    athlete_database = {}\n",
    "    for key in unique_keys:\n",
    "        athlete_database[key] = []\n",
    "    return athlete_database\n",
    "        \n",
    "def fill_database(database, athlete_profiles):\n",
    "    for athlete_profile in athlete_profiles:\n",
    "        for key_d, value_d in database.items():\n",
    "            if key_d in athlete_profile:\n",
    "                database[key_d].append(athlete_profile[key_d])\n",
    "            else:\n",
    "                database[key_d].append('--')\n",
    "    return database\n",
    "\n",
    "            \n",
    "def get_athlete_database(athlete_profiles):\n",
    "    unique_keys = get_unique_keys(athlete_profiles)\n",
    "    database = initialize_database(unique_keys)\n",
    "    database = fill_database(database, athlete_profiles)\n",
    "    return database\n",
    "\n",
    "def fixup_whitespace(text):\n",
    "    return \" \".join(text.split())\n",
    "\n",
    "\n",
    "# --- scrape functions --- #\n",
    "    \n",
    "def scrape_athlete_profile(bio_table):\n",
    "    bio_table_trs = bio_table.find_all('tr')\n",
    "    details = {}\n",
    "    for index, tr in enumerate(bio_table_trs):\n",
    "        if index == 0:\n",
    "            details['Name'] = fixup_whitespace(tr.get_text())\n",
    "        else:\n",
    "            tds = tr.find_all('td')\n",
    "            details[tds[0].get_text()] = fixup_whitespace(tds[1].get_text())\n",
    "    return details\n",
    "\n",
    "def scrape_human_interest_info(bio_table):\n",
    "    bio_table_trs = bio_table.find_all('tr')\n",
    "    details = {}\n",
    "    for index, tr in enumerate(bio_table_trs):\n",
    "        if len(tr.find_all('td')) == 1:\n",
    "            continue\n",
    "        else:\n",
    "            tds = tr.find_all('td')\n",
    "            details[tds[0].get_text()] = fixup_whitespace(tds[1].get_text())\n",
    "    return details\n",
    "\n",
    "\n",
    "def get_person_id(current_url):\n",
    "    personid_object = re.search(r\"&personid=([0-9]*)&\", current_url)\n",
    "    return personid_object.group(1)"
   ]
  },
  {
   "cell_type": "markdown",
   "id": "ca565213",
   "metadata": {},
   "source": [
    "## Script"
   ]
  },
  {
   "cell_type": "markdown",
   "id": "d07eba05",
   "metadata": {},
   "source": [
    "### Initialize requests session"
   ]
  },
  {
   "cell_type": "code",
   "execution_count": 4,
   "id": "cf247b5c",
   "metadata": {
    "scrolled": false
   },
   "outputs": [],
   "source": [
    "session = requests.Session()"
   ]
  },
  {
   "cell_type": "markdown",
   "id": "ef9ffbbf",
   "metadata": {},
   "source": [
    "### Scrape"
   ]
  },
  {
   "cell_type": "code",
   "execution_count": 5,
   "id": "acbf25d4",
   "metadata": {},
   "outputs": [],
   "source": [
    "r = session.get(INFOSTRADASPORTS_URL)\n",
    "html_parent = r.content\n",
    "soup = BeautifulSoup(html_parent, 'html.parser')\n",
    "base_url = \"http://ipc.infostradasports.com\"\n",
    "    \n",
    "if NUM_OF_ATHLETE_PROFILES_TO_CAPTURE == 0:\n",
    "    paths = [a['href'] for a in soup.find_all('a', href=True)][1:]\n",
    "else:\n",
    "    paths = [a['href'] for a in soup.find_all('a', href=True)][1:NUM_OF_ATHLETE_PROFILES_TO_CAPTURE+1]\n",
    "    \n",
    "athlete_profiles = []\n",
    "human_interest_infos = []\n",
    "person_ids = []\n",
    "\n",
    "for path in paths:\n",
    "    r = session.get(base_url + path)\n",
    "    person_id = get_person_id(path)\n",
    "    person_ids.append(person_id)\n",
    "    html = r.content\n",
    "    soup = BeautifulSoup(html, 'html.parser')\n",
    "    bio_tables = soup.find_all('table', {'class': 'table_layout1'})\n",
    "    athlete_profile_soup = bio_tables[0]\n",
    "    human_interest_info_soup = bio_tables[1]\n",
    "    athlete_profile = scrape_athlete_profile(athlete_profile_soup)\n",
    "    athlete_profiles.append(athlete_profile)\n",
    "    human_interest_info = scrape_human_interest_info(human_interest_info_soup)\n",
    "    human_interest_infos.append(human_interest_info)\n",
    "\n",
    "athlete_database = get_athlete_database(athlete_profiles)\n",
    "df1 = pd.DataFrame(athlete_database)\n",
    "athlete_interest_database = get_athlete_database(human_interest_infos)\n",
    "df2 = pd.DataFrame(athlete_interest_database)\n",
    "df_final = pd.concat([df1, df2], axis=1)\n",
    "df_final['person_id'] = person_ids"
   ]
  },
  {
   "cell_type": "markdown",
   "id": "088bb0eb",
   "metadata": {},
   "source": [
    "### create csv output"
   ]
  },
  {
   "cell_type": "code",
   "execution_count": 6,
   "id": "c29c3be1",
   "metadata": {},
   "outputs": [],
   "source": [
    "df_final.to_csv('infostradasports_scrape_data.csv')"
   ]
  },
  {
   "cell_type": "markdown",
   "id": "bfc70bcd",
   "metadata": {},
   "source": [
    "### Display preview of data"
   ]
  },
  {
   "cell_type": "code",
   "execution_count": 7,
   "id": "2615299b",
   "metadata": {
    "scrolled": true
   },
   "outputs": [
    {
     "data": {
      "text/html": [
       "<div>\n",
       "<style scoped>\n",
       "    .dataframe tbody tr th:only-of-type {\n",
       "        vertical-align: middle;\n",
       "    }\n",
       "\n",
       "    .dataframe tbody tr th {\n",
       "        vertical-align: top;\n",
       "    }\n",
       "\n",
       "    .dataframe thead th {\n",
       "        text-align: right;\n",
       "    }\n",
       "</style>\n",
       "<table border=\"1\" class=\"dataframe\">\n",
       "  <thead>\n",
       "    <tr style=\"text-align: right;\">\n",
       "      <th></th>\n",
       "      <th>Sport</th>\n",
       "      <th>Name</th>\n",
       "      <th>Age</th>\n",
       "      <th>Gender</th>\n",
       "      <th>NPC</th>\n",
       "      <th>Ambitions</th>\n",
       "      <th>Training Regime</th>\n",
       "      <th>Other information</th>\n",
       "      <th>Classification</th>\n",
       "      <th>Name of coach</th>\n",
       "      <th>Type of Impairment</th>\n",
       "      <th>Higher education</th>\n",
       "      <th>Club / Team</th>\n",
       "      <th>Residence</th>\n",
       "      <th>person_id</th>\n",
       "    </tr>\n",
       "  </thead>\n",
       "  <tbody>\n",
       "    <tr>\n",
       "      <th>0</th>\n",
       "      <td>Para athletics, Para swimming, Shooting Para s...</td>\n",
       "      <td>HAIDARI Zubair</td>\n",
       "      <td>43</td>\n",
       "      <td>Men</td>\n",
       "      <td>Afghanistan</td>\n",
       "      <td>--</td>\n",
       "      <td>--</td>\n",
       "      <td>--</td>\n",
       "      <td>--</td>\n",
       "      <td>--</td>\n",
       "      <td>--</td>\n",
       "      <td>--</td>\n",
       "      <td>--</td>\n",
       "      <td>--</td>\n",
       "      <td>1066292</td>\n",
       "    </tr>\n",
       "    <tr>\n",
       "      <th>1</th>\n",
       "      <td>Para swimming</td>\n",
       "      <td>PARWANI Khan Agha</td>\n",
       "      <td>38</td>\n",
       "      <td>Men</td>\n",
       "      <td>Afghanistan</td>\n",
       "      <td>--</td>\n",
       "      <td>--</td>\n",
       "      <td>--</td>\n",
       "      <td>S7, SB6, SM7</td>\n",
       "      <td>--</td>\n",
       "      <td>--</td>\n",
       "      <td>--</td>\n",
       "      <td>--</td>\n",
       "      <td>--</td>\n",
       "      <td>1929519</td>\n",
       "    </tr>\n",
       "    <tr>\n",
       "      <th>2</th>\n",
       "      <td>Para swimming</td>\n",
       "      <td>CODINA MOLINE Marc</td>\n",
       "      <td>52</td>\n",
       "      <td>Men</td>\n",
       "      <td>Andorra</td>\n",
       "      <td>--</td>\n",
       "      <td>--</td>\n",
       "      <td>--</td>\n",
       "      <td>S9</td>\n",
       "      <td>--</td>\n",
       "      <td>--</td>\n",
       "      <td>--</td>\n",
       "      <td>Federacio Andorrana: Andorra</td>\n",
       "      <td>--</td>\n",
       "      <td>1066320</td>\n",
       "    </tr>\n",
       "    <tr>\n",
       "      <th>3</th>\n",
       "      <td>Para swimming</td>\n",
       "      <td>SANCHEZ FRANCISCO Antonio</td>\n",
       "      <td>38</td>\n",
       "      <td>Men</td>\n",
       "      <td>Andorra</td>\n",
       "      <td>--</td>\n",
       "      <td>--</td>\n",
       "      <td>NATIONAL FIRSTHe became the first person to re...</td>\n",
       "      <td>S7, SB7, SM7</td>\n",
       "      <td>--</td>\n",
       "      <td>--</td>\n",
       "      <td>--</td>\n",
       "      <td>--</td>\n",
       "      <td>--</td>\n",
       "      <td>1066111</td>\n",
       "    </tr>\n",
       "    <tr>\n",
       "      <th>4</th>\n",
       "      <td>Para swimming</td>\n",
       "      <td>LOPES Silvio Mendes</td>\n",
       "      <td>30</td>\n",
       "      <td>Men</td>\n",
       "      <td>Angola</td>\n",
       "      <td>After just missing out on representing Angola ...</td>\n",
       "      <td>He trains at the First of August Swimming Pool...</td>\n",
       "      <td>--</td>\n",
       "      <td>S9, SM9</td>\n",
       "      <td>Priscila Fernandes</td>\n",
       "      <td>Limb deficiency</td>\n",
       "      <td>Universidade Tecnica de Angola: Luanda, ANG</td>\n",
       "      <td>--</td>\n",
       "      <td>Luanda, ANG</td>\n",
       "      <td>1064912</td>\n",
       "    </tr>\n",
       "  </tbody>\n",
       "</table>\n",
       "</div>"
      ],
      "text/plain": [
       "                                               Sport  \\\n",
       "0  Para athletics, Para swimming, Shooting Para s...   \n",
       "1                                      Para swimming   \n",
       "2                                      Para swimming   \n",
       "3                                      Para swimming   \n",
       "4                                      Para swimming   \n",
       "\n",
       "                        Name Age Gender          NPC  \\\n",
       "0             HAIDARI Zubair  43    Men  Afghanistan   \n",
       "1          PARWANI Khan Agha  38    Men  Afghanistan   \n",
       "2         CODINA MOLINE Marc  52    Men      Andorra   \n",
       "3  SANCHEZ FRANCISCO Antonio  38    Men      Andorra   \n",
       "4        LOPES Silvio Mendes  30    Men       Angola   \n",
       "\n",
       "                                           Ambitions  \\\n",
       "0                                                 --   \n",
       "1                                                 --   \n",
       "2                                                 --   \n",
       "3                                                 --   \n",
       "4  After just missing out on representing Angola ...   \n",
       "\n",
       "                                     Training Regime  \\\n",
       "0                                                 --   \n",
       "1                                                 --   \n",
       "2                                                 --   \n",
       "3                                                 --   \n",
       "4  He trains at the First of August Swimming Pool...   \n",
       "\n",
       "                                   Other information Classification  \\\n",
       "0                                                 --             --   \n",
       "1                                                 --   S7, SB6, SM7   \n",
       "2                                                 --             S9   \n",
       "3  NATIONAL FIRSTHe became the first person to re...   S7, SB7, SM7   \n",
       "4                                                 --        S9, SM9   \n",
       "\n",
       "        Name of coach Type of Impairment  \\\n",
       "0                  --                 --   \n",
       "1                  --                 --   \n",
       "2                  --                 --   \n",
       "3                  --                 --   \n",
       "4  Priscila Fernandes    Limb deficiency   \n",
       "\n",
       "                              Higher education                   Club / Team  \\\n",
       "0                                           --                            --   \n",
       "1                                           --                            --   \n",
       "2                                           --  Federacio Andorrana: Andorra   \n",
       "3                                           --                            --   \n",
       "4  Universidade Tecnica de Angola: Luanda, ANG                            --   \n",
       "\n",
       "     Residence person_id  \n",
       "0           --   1066292  \n",
       "1           --   1929519  \n",
       "2           --   1066320  \n",
       "3           --   1066111  \n",
       "4  Luanda, ANG   1064912  "
      ]
     },
     "execution_count": 7,
     "metadata": {},
     "output_type": "execute_result"
    }
   ],
   "source": [
    "df_final.head(40)"
   ]
  }
 ],
 "metadata": {
  "kernelspec": {
   "display_name": "Python 3",
   "language": "python",
   "name": "python3"
  },
  "language_info": {
   "codemirror_mode": {
    "name": "ipython",
    "version": 3
   },
   "file_extension": ".py",
   "mimetype": "text/x-python",
   "name": "python",
   "nbconvert_exporter": "python",
   "pygments_lexer": "ipython3",
   "version": "3.10.9"
  },
  "vscode": {
   "interpreter": {
    "hash": "767d51c1340bd893661ea55ea3124f6de3c7a262a8b4abca0554b478b1e2ff90"
   }
  }
 },
 "nbformat": 4,
 "nbformat_minor": 5
}
