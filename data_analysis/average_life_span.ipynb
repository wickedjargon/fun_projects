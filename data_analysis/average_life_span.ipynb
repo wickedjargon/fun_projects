{
 "cells": [
  {
   "cell_type": "markdown",
   "id": "04949189",
   "metadata": {},
   "source": [
    "# Imports"
   ]
  },
  {
   "cell_type": "code",
   "execution_count": 2,
   "id": "97bb4912",
   "metadata": {},
   "outputs": [],
   "source": [
    "import pandas as pd\n",
    "import numpy as np\n",
    "import matplotlib.pyplot as plt"
   ]
  },
  {
   "cell_type": "markdown",
   "id": "6076b383",
   "metadata": {},
   "source": [
    "# globals"
   ]
  },
  {
   "cell_type": "code",
   "execution_count": 3,
   "id": "ac8bcdc7",
   "metadata": {},
   "outputs": [],
   "source": [
    "INPUT_DATA_FILE = 'average_life_span_data.csv'"
   ]
  },
  {
   "cell_type": "markdown",
   "id": "b04bb925",
   "metadata": {},
   "source": [
    "# pd and plt settings"
   ]
  },
  {
   "cell_type": "code",
   "execution_count": 4,
   "id": "bb7866ac",
   "metadata": {},
   "outputs": [],
   "source": [
    "plt.style.use('dark_background')            # dark background\n",
    "plt.rcParams['figure.figsize'] = [24, 12]   # increase default figure \n",
    "plt.rcParams.update({'font.size': 16})      # and font sizes are too small. let's increase them"
   ]
  },
  {
   "cell_type": "markdown",
   "id": "d60b11b6",
   "metadata": {},
   "source": [
    "# functions"
   ]
  },
  {
   "cell_type": "code",
   "execution_count": 5,
   "id": "00a5aa5f",
   "metadata": {},
   "outputs": [],
   "source": [
    "def remove_na_rows(df):\n",
    "    for i in range(1960, 2021):\n",
    "        df = df[df[str(i)].notna()]\n",
    "    return df\n",
    "\n",
    "def subset_df(df, country_code):\n",
    "    return df[df['Country Code'] == country_code]\n",
    "\n",
    "def get_years(df):\n",
    "    years = []\n",
    "    for index, year in enumerate(df):\n",
    "        if index == 0 or index == 1:\n",
    "            continue\n",
    "        years.append(int(year))\n",
    "    return years\n",
    "\n",
    "def get_ages(df):\n",
    "    ages = []\n",
    "    for index, age in enumerate(df.iteritems()):\n",
    "        if index == 0 or index == 1:\n",
    "            continue\n",
    "        ages.append(float(age[1]))\n",
    "    return ages\n",
    "\n",
    "def gen_fig_file(df, country_code, country_name):\n",
    "    df = subset_df(df, country_code)\n",
    "    years = get_years(df)\n",
    "    ages = get_ages(df)\n",
    "    df = pd.DataFrame(dict(ages=ages, years=years), index=years)\n",
    "    fig = df.plot.line(x='years', y='ages', legend=False)\n",
    "    fig.set_ylabel(\"\")\n",
    "    fig.set_xlabel(\"\")\n",
    "    fig.set_title(f\"{country_name} - Average Life Span per Year\")\n",
    "    fig = fig.get_figure().savefig(f'figures/{country_code}.png')\n",
    "    plt.close('all')"
   ]
  },
  {
   "cell_type": "markdown",
   "id": "af60c78f",
   "metadata": {},
   "source": [
    "# script"
   ]
  },
  {
   "cell_type": "code",
   "execution_count": 6,
   "id": "d61f61b8",
   "metadata": {},
   "outputs": [],
   "source": [
    "def main(): \n",
    "    df = pd.read_csv(INPUT_DATA_FILE)\n",
    "    df = remove_na_rows(df)\n",
    "    country_codes = df['Country Code']\n",
    "    country_names = df['Country Name']\n",
    "    country_info = zip(country_codes, country_names)\n",
    "\n",
    "    for country_code, country_name in country_info:\n",
    "        gen_fig_file(df, str(country_code), str(country_name))\n",
    "\n",
    "main()"
   ]
  }
 ],
 "metadata": {
  "kernelspec": {
   "display_name": "Python 3 (ipykernel)",
   "language": "python",
   "name": "python3"
  },
  "language_info": {
   "codemirror_mode": {
    "name": "ipython",
    "version": 3
   },
   "file_extension": ".py",
   "mimetype": "text/x-python",
   "name": "python",
   "nbconvert_exporter": "python",
   "pygments_lexer": "ipython3",
   "version": "3.10.6"
  }
 },
 "nbformat": 4,
 "nbformat_minor": 5
}
